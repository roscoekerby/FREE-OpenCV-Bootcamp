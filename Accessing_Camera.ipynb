{
  "nbformat": 4,
  "nbformat_minor": 0,
  "metadata": {
    "colab": {
      "provenance": [],
      "authorship_tag": "ABX9TyOGBZKzW+daPz8a/O2AhN9s",
      "include_colab_link": true
    },
    "kernelspec": {
      "name": "python3",
      "display_name": "Python 3"
    },
    "language_info": {
      "name": "python"
    }
  },
  "cells": [
    {
      "cell_type": "markdown",
      "metadata": {
        "id": "view-in-github",
        "colab_type": "text"
      },
      "source": [
        "<a href=\"https://colab.research.google.com/github/roscoekerby/FREE-OpenCV-Bootcamp/blob/main/Accessing_Camera.ipynb\" target=\"_parent\"><img src=\"https://colab.research.google.com/assets/colab-badge.svg\" alt=\"Open In Colab\"/></a>"
      ]
    },
    {
      "cell_type": "markdown",
      "source": [
        "Using OpenCV Locally to get a video"
      ],
      "metadata": {
        "id": "fMaDtMUFTMTY"
      }
    },
    {
      "cell_type": "code",
      "execution_count": null,
      "metadata": {
        "id": "b6s_emBNPEGi"
      },
      "outputs": [],
      "source": [
        "import cv2\n",
        "import sys\n",
        "\n",
        "s = 0\n",
        "if len(sys.argv) > 1:\n",
        "    s = sys.argv[1]\n",
        "\n",
        "source = cv2.VideoCapture(s)\n",
        "\n",
        "win_name = 'Camera Preview'\n",
        "cv2.namedWindow(win_name, cv2.WINDOW_NORMAL)\n",
        "\n",
        "while cv2.waitKey(1) != 27: # Escape\n",
        "    has_frame, frame = source.read()\n",
        "    if not has_frame:\n",
        "        break\n",
        "    cv2.imshow(win_name, frame)\n",
        "\n",
        "source.release()\n",
        "cv2.destroyWindow(win_name)"
      ]
    },
    {
      "cell_type": "markdown",
      "source": [
        "Better one that you can use p to take photo, v to start video, and s to stop the video, q to quit"
      ],
      "metadata": {
        "id": "zpbHtEsiVZZY"
      }
    },
    {
      "cell_type": "code",
      "source": [
        "import cv2\n",
        "import sys\n",
        "\n",
        "# Initialize counters for images and videos\n",
        "image_counter = 1\n",
        "video_counter = 1\n",
        "recording = False\n",
        "\n",
        "if len(sys.argv) > 1:\n",
        "    s = sys.argv[1]\n",
        "else:\n",
        "    s = 0\n",
        "\n",
        "source = cv2.VideoCapture(s)\n",
        "if not source.isOpened():\n",
        "    print(\"Error: Could not open video source.\")\n",
        "    sys.exit()\n",
        "\n",
        "win_name = 'Camera Preview'\n",
        "cv2.namedWindow(win_name, cv2.WINDOW_NORMAL)\n",
        "\n",
        "# Video writer setup\n",
        "fourcc = cv2.VideoWriter_fourcc(*'mp4v')\n",
        "out = None\n",
        "message = \"\"\n",
        "message_display_counter = 0\n",
        "message_display_time = 50  # Display message for 50 frames\n",
        "\n",
        "while True:\n",
        "    ret, frame = source.read()\n",
        "    if not ret:\n",
        "        print(\"Error: Could not read frame.\")\n",
        "        break\n",
        "\n",
        "    # Display the message on the frame if the counter is positive\n",
        "    if message_display_counter > 0:\n",
        "        cv2.putText(frame, message, (10, 30), cv2.FONT_HERSHEY_SIMPLEX, 1, (0, 255, 0), 2, cv2.LINE_AA)\n",
        "        message_display_counter -= 1\n",
        "\n",
        "    cv2.imshow(win_name, frame)\n",
        "\n",
        "    key = cv2.waitKey(1) & 0xFF\n",
        "\n",
        "    if key == ord('p'):\n",
        "        # Save image\n",
        "        image_filename = f'image_{image_counter}.jpg'\n",
        "        cv2.imwrite(image_filename, frame)\n",
        "        message = f\"Saved {image_filename}\"\n",
        "        message_display_counter = message_display_time\n",
        "        print(message)\n",
        "        image_counter += 1\n",
        "\n",
        "    elif key == ord('v'):\n",
        "        if not recording:\n",
        "            video_filename = f'video_{video_counter}.mp4'\n",
        "            out = cv2.VideoWriter(video_filename, fourcc, 20.0, (frame.shape[1], frame.shape[0]))\n",
        "            recording = True\n",
        "            message = f\"Started recording {video_filename}\"\n",
        "            message_display_counter = message_display_time\n",
        "            print(message)\n",
        "\n",
        "    elif key == ord('s'):\n",
        "        if recording:\n",
        "            recording = False\n",
        "            out.release()\n",
        "            message = f\"Stopped recording {video_filename}\"\n",
        "            message_display_counter = message_display_time\n",
        "            print(message)\n",
        "            video_counter += 1\n",
        "\n",
        "    elif key == ord('q'):\n",
        "        break\n",
        "\n",
        "    if recording:\n",
        "        out.write(frame)\n",
        "\n",
        "source.release()\n",
        "if out is not None:\n",
        "    out.release()\n",
        "cv2.destroyAllWindows()\n"
      ],
      "metadata": {
        "colab": {
          "base_uri": "https://localhost:8080/",
          "height": 161
        },
        "id": "3dX-oDx4Vft4",
        "outputId": "218d0a89-8d5f-4c5b-c849-99208fbe15df"
      },
      "execution_count": 1,
      "outputs": [
        {
          "output_type": "stream",
          "name": "stdout",
          "text": [
            "Error: Could not open video source.\n"
          ]
        },
        {
          "output_type": "error",
          "ename": "SystemExit",
          "evalue": "",
          "traceback": [
            "An exception has occurred, use %tb to see the full traceback.\n",
            "\u001b[0;31mSystemExit\u001b[0m\n"
          ]
        },
        {
          "output_type": "stream",
          "name": "stderr",
          "text": [
            "/usr/local/lib/python3.10/dist-packages/IPython/core/interactiveshell.py:3561: UserWarning: To exit: use 'exit', 'quit', or Ctrl-D.\n",
            "  warn(\"To exit: use 'exit', 'quit', or Ctrl-D.\", stacklevel=1)\n"
          ]
        }
      ]
    },
    {
      "cell_type": "markdown",
      "source": [
        "Accessing Camera using JS for Colab for image capture"
      ],
      "metadata": {
        "id": "pGLXKEqxPULY"
      }
    },
    {
      "cell_type": "code",
      "source": [
        "from IPython.display import display, Javascript\n",
        "from google.colab.output import eval_js\n",
        "from base64 import b64decode\n",
        "\n",
        "def take_photo(filename='photo.jpg', quality=0.8):\n",
        "  js = Javascript('''\n",
        "    async function takePhoto(quality) {\n",
        "      const div = document.createElement('div');\n",
        "      const capture = document.createElement('button');\n",
        "      capture.textContent = 'Capture';\n",
        "      div.appendChild(capture);\n",
        "\n",
        "      const video = document.createElement('video');\n",
        "      video.style.display = 'block';\n",
        "      const stream = await navigator.mediaDevices.getUserMedia({video: true});\n",
        "\n",
        "      document.body.appendChild(div);\n",
        "      div.appendChild(video);\n",
        "      video.srcObject = stream;\n",
        "      await video.play();\n",
        "\n",
        "      // Resize the output to fit the video element.\n",
        "      google.colab.output.setIframeHeight(document.documentElement.scrollHeight, true);\n",
        "\n",
        "      // Wait for Capture to be clicked.\n",
        "      await new Promise((resolve) => capture.onclick = resolve);\n",
        "\n",
        "      const canvas = document.createElement('canvas');\n",
        "      canvas.width = video.videoWidth;\n",
        "      canvas.height = video.videoHeight;\n",
        "      canvas.getContext('2d').drawImage(video, 0, 0);\n",
        "      stream.getVideoTracks()[0].stop();\n",
        "      div.remove();\n",
        "      return canvas.toDataURL('image/jpeg', quality);\n",
        "    }\n",
        "    ''')\n",
        "  display(js)\n",
        "  data = eval_js('takePhoto({})'.format(quality))\n",
        "  binary = b64decode(data.split(',')[1])\n",
        "  with open(filename, 'wb') as f:\n",
        "    f.write(binary)\n",
        "  return filename"
      ],
      "metadata": {
        "id": "Ox0uPMGQPrsU"
      },
      "execution_count": 1,
      "outputs": []
    },
    {
      "cell_type": "code",
      "source": [
        "from IPython.display import Image\n",
        "try:\n",
        "  filename = take_photo()\n",
        "  print('Saved to {}'.format(filename))\n",
        "\n",
        "  # Show the image which was just taken.\n",
        "  display(Image(filename))\n",
        "except Exception as err:\n",
        "  # Errors will be thrown if the user does not have a webcam or if they do not\n",
        "  # grant the page permission to access it.\n",
        "  print(str(err))"
      ],
      "metadata": {
        "colab": {
          "base_uri": "https://localhost:8080/",
          "height": 505
        },
        "id": "WP7hLmxcPuxa",
        "outputId": "bf4424a1-832f-41b4-eeb8-0e1c251e76ca"
      },
      "execution_count": 2,
      "outputs": [
        {
          "output_type": "display_data",
          "data": {
            "text/plain": [
              "<IPython.core.display.Javascript object>"
            ],
            "application/javascript": [
              "\n",
              "    async function takePhoto(quality) {\n",
              "      const div = document.createElement('div');\n",
              "      const capture = document.createElement('button');\n",
              "      capture.textContent = 'Capture';\n",
              "      div.appendChild(capture);\n",
              "\n",
              "      const video = document.createElement('video');\n",
              "      video.style.display = 'block';\n",
              "      const stream = await navigator.mediaDevices.getUserMedia({video: true});\n",
              "\n",
              "      document.body.appendChild(div);\n",
              "      div.appendChild(video);\n",
              "      video.srcObject = stream;\n",
              "      await video.play();\n",
              "\n",
              "      // Resize the output to fit the video element.\n",
              "      google.colab.output.setIframeHeight(document.documentElement.scrollHeight, true);\n",
              "\n",
              "      // Wait for Capture to be clicked.\n",
              "      await new Promise((resolve) => capture.onclick = resolve);\n",
              "\n",
              "      const canvas = document.createElement('canvas');\n",
              "      canvas.width = video.videoWidth;\n",
              "      canvas.height = video.videoHeight;\n",
              "      canvas.getContext('2d').drawImage(video, 0, 0);\n",
              "      stream.getVideoTracks()[0].stop();\n",
              "      div.remove();\n",
              "      return canvas.toDataURL('image/jpeg', quality);\n",
              "    }\n",
              "    "
            ]
          },
          "metadata": {}
        },
        {
          "output_type": "stream",
          "name": "stdout",
          "text": [
            "Saved to photo.jpg\n"
          ]
        },
        {
          "output_type": "display_data",
          "data": {
            "image/jpeg": "[encoded data removed]",
            "text/plain": [
              "<IPython.core.display.Image object>"
            ]
          },
          "metadata": {}
        }
      ]
    },
    {
      "cell_type": "markdown",
      "source": [
        "Create and save a video using JS in colab"
      ],
      "metadata": {
        "id": "pd6FWxR3TD1v"
      }
    },
    {
      "cell_type": "code",
      "source": [
        "from IPython.display import display, Javascript, HTML\n",
        "from google.colab.output import eval_js, register_callback\n",
        "from base64 import b64decode\n",
        "\n",
        "# JavaScript for video recording\n",
        "def record_video(filename='video.webm'):\n",
        "    js = Javascript('''\n",
        "    async function recordVideo() {\n",
        "        const div = document.createElement('div');\n",
        "\n",
        "        // Create video element to display the video feed\n",
        "        const video = document.createElement('video');\n",
        "        video.style.display = 'block';\n",
        "        const stream = await navigator.mediaDevices.getUserMedia({video: true});\n",
        "\n",
        "        // Create buttons for start and stop recording\n",
        "        const recordButton = document.createElement('button');\n",
        "        recordButton.textContent = 'Start Recording';\n",
        "        div.appendChild(recordButton);\n",
        "\n",
        "        const stopButton = document.createElement('button');\n",
        "        stopButton.textContent = 'Stop Recording';\n",
        "        stopButton.style.display = 'none'; // Hide stop button initially\n",
        "        div.appendChild(stopButton);\n",
        "\n",
        "        document.body.appendChild(div);\n",
        "        div.appendChild(video);\n",
        "        video.srcObject = stream;\n",
        "        await video.play();\n",
        "\n",
        "        // Resize the output to fit the video element.\n",
        "        google.colab.output.setIframeHeight(document.documentElement.scrollHeight, true);\n",
        "\n",
        "        let recorder = new MediaRecorder(stream, {\n",
        "            mimeType: 'video/webm; codecs=\"vp8\"'\n",
        "        });\n",
        "        let recordingData = [];\n",
        "\n",
        "        recordButton.onclick = function() {\n",
        "            recorder.start();\n",
        "            recordButton.textContent = 'Recording...';\n",
        "            recordButton.disabled = true;\n",
        "            stopButton.style.display = 'inline-block';\n",
        "        }\n",
        "\n",
        "        stopButton.onclick = function() {\n",
        "            recorder.stop();\n",
        "            recordButton.textContent = 'Start Recording';\n",
        "            recordButton.disabled = false;\n",
        "            stopButton.style.display = 'none';\n",
        "        }\n",
        "\n",
        "        recorder.ondataavailable = e => {\n",
        "            recordingData.push(e.data);\n",
        "        };\n",
        "\n",
        "        recorder.onstop = async () => {\n",
        "            const blob = new Blob(recordingData, { type: 'video/webm' });\n",
        "            stream.getVideoTracks()[0].stop();\n",
        "            div.remove();\n",
        "\n",
        "            const reader = new FileReader();\n",
        "            reader.onload = () => {\n",
        "                google.colab.kernel.invokeFunction('notebook.save_video', [reader.result], {});\n",
        "            };\n",
        "            reader.readAsDataURL(blob);\n",
        "        };\n",
        "    }\n",
        "    recordVideo();\n",
        "    ''')\n",
        "\n",
        "    display(js)\n",
        "\n",
        "# Python function to handle saving the video file\n",
        "def save_video(data, filename='video.webm'):\n",
        "    binary = b64decode(data.split(',')[1])\n",
        "    with open(filename, 'wb') as f:\n",
        "        f.write(binary)\n",
        "    print(f'Video saved as {filename}')\n",
        "\n",
        "# Register the Python function as a callback\n",
        "register_callback('notebook.save_video', save_video)\n",
        "\n",
        "# Execute recording and saving process\n",
        "record_video()\n"
      ],
      "metadata": {
        "colab": {
          "base_uri": "https://localhost:8080/",
          "height": 34
        },
        "id": "EHQr6O26Spke",
        "outputId": "18367540-35cf-47ba-9087-21f0995f5f23"
      },
      "execution_count": 15,
      "outputs": [
        {
          "output_type": "display_data",
          "data": {
            "text/plain": [
              "<IPython.core.display.Javascript object>"
            ],
            "application/javascript": [
              "\n",
              "    async function recordVideo() {\n",
              "        const div = document.createElement('div');\n",
              "\n",
              "        // Create video element to display the video feed\n",
              "        const video = document.createElement('video');\n",
              "        video.style.display = 'block';\n",
              "        const stream = await navigator.mediaDevices.getUserMedia({video: true});\n",
              "\n",
              "        // Create buttons for start and stop recording\n",
              "        const recordButton = document.createElement('button');\n",
              "        recordButton.textContent = 'Start Recording';\n",
              "        div.appendChild(recordButton);\n",
              "\n",
              "        const stopButton = document.createElement('button');\n",
              "        stopButton.textContent = 'Stop Recording';\n",
              "        stopButton.style.display = 'none'; // Hide stop button initially\n",
              "        div.appendChild(stopButton);\n",
              "\n",
              "        document.body.appendChild(div);\n",
              "        div.appendChild(video);\n",
              "        video.srcObject = stream;\n",
              "        await video.play();\n",
              "\n",
              "        // Resize the output to fit the video element.\n",
              "        google.colab.output.setIframeHeight(document.documentElement.scrollHeight, true);\n",
              "\n",
              "        let recorder = new MediaRecorder(stream, {\n",
              "            mimeType: 'video/webm; codecs=\"vp8\"'\n",
              "        });\n",
              "        let recordingData = [];\n",
              "\n",
              "        recordButton.onclick = function() {\n",
              "            recorder.start();\n",
              "            recordButton.textContent = 'Recording...';\n",
              "            recordButton.disabled = true;\n",
              "            stopButton.style.display = 'inline-block';\n",
              "        }\n",
              "\n",
              "        stopButton.onclick = function() {\n",
              "            recorder.stop();\n",
              "            recordButton.textContent = 'Start Recording';\n",
              "            recordButton.disabled = false;\n",
              "            stopButton.style.display = 'none';\n",
              "        }\n",
              "\n",
              "        recorder.ondataavailable = e => {\n",
              "            recordingData.push(e.data);\n",
              "        };\n",
              "\n",
              "        recorder.onstop = async () => {\n",
              "            const blob = new Blob(recordingData, { type: 'video/webm' });\n",
              "            stream.getVideoTracks()[0].stop();\n",
              "            div.remove();\n",
              "\n",
              "            const reader = new FileReader();\n",
              "            reader.onload = () => {\n",
              "                google.colab.kernel.invokeFunction('notebook.save_video', [reader.result], {});\n",
              "            };\n",
              "            reader.readAsDataURL(blob);\n",
              "        };\n",
              "    }\n",
              "    recordVideo();\n",
              "    "
            ]
          },
          "metadata": {}
        },
        {
          "output_type": "stream",
          "name": "stdout",
          "text": [
            "Video saved as video.webm\n"
          ]
        }
      ]
    }
  ]
}